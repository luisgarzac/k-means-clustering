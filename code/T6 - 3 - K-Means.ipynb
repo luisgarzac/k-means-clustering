{
 "cells": [
  {
   "cell_type": "markdown",
   "id": "d4349b1d",
   "metadata": {},
   "source": [
    "## El método de k-means"
   ]
  },
  {
   "cell_type": "code",
   "execution_count": 1,
   "id": "2ac1b529",
   "metadata": {},
   "outputs": [],
   "source": [
    "import numpy as np"
   ]
  },
  {
   "cell_type": "code",
   "execution_count": 2,
   "id": "ee366e18",
   "metadata": {},
   "outputs": [
    {
     "data": {
      "text/plain": [
       "array([[0.5543852 , 0.2442935 , 0.6687153 ],\n",
       "       [0.09882574, 0.11234127, 0.98143333],\n",
       "       [0.70931136, 0.29004517, 0.61932864],\n",
       "       [0.21834609, 0.60883127, 0.65516794],\n",
       "       [0.34182868, 0.67523271, 0.89210549],\n",
       "       [0.79178935, 0.11323041, 0.72701202],\n",
       "       [0.38407312, 0.98156127, 0.85245881],\n",
       "       [0.77465888, 0.03654088, 0.40269828],\n",
       "       [0.98385901, 0.22309244, 0.03912795],\n",
       "       [0.76964817, 0.49330309, 0.92564737],\n",
       "       [0.10941298, 0.83709907, 0.10300157],\n",
       "       [0.55921746, 0.65477216, 0.35024943],\n",
       "       [0.03659786, 0.72135293, 0.13246701],\n",
       "       [0.20742348, 0.21990139, 0.5024061 ],\n",
       "       [0.12403229, 0.96841008, 0.52305107],\n",
       "       [0.88741216, 0.72553446, 0.85204242],\n",
       "       [0.74231906, 0.11914433, 0.0132812 ],\n",
       "       [0.60683384, 0.09433479, 0.70930677],\n",
       "       [0.03157864, 0.98814987, 0.73154417],\n",
       "       [0.7407727 , 0.21185436, 0.13565777],\n",
       "       [0.4747328 , 0.70689587, 0.18384704],\n",
       "       [0.564598  , 0.11898188, 0.5714764 ],\n",
       "       [0.25938619, 0.21379932, 0.91998404],\n",
       "       [0.29732325, 0.83850999, 0.74902079],\n",
       "       [0.27813552, 0.60711946, 0.64722658],\n",
       "       [0.74359819, 0.55696374, 0.88686991],\n",
       "       [0.63721614, 0.08097595, 0.50383439],\n",
       "       [0.93021456, 0.0846454 , 0.65439551],\n",
       "       [0.68464407, 0.38404565, 0.81991732],\n",
       "       [0.14767176, 0.18051341, 0.92258491]])"
      ]
     },
     "execution_count": 2,
     "metadata": {},
     "output_type": "execute_result"
    }
   ],
   "source": [
    "data = np.random.random(90).reshape(30,3)\n",
    "data"
   ]
  },
  {
   "cell_type": "code",
   "execution_count": 3,
   "id": "cbe826d1",
   "metadata": {},
   "outputs": [
    {
     "data": {
      "text/plain": [
       "array([[0.93021456, 0.0846454 , 0.65439551],\n",
       "       [0.76964817, 0.49330309, 0.92564737]])"
      ]
     },
     "execution_count": 3,
     "metadata": {},
     "output_type": "execute_result"
    }
   ],
   "source": [
    "c1 = np.random.choice(range(len(data)))\n",
    "c2 = np.random.choice(range(len(data)))\n",
    "clust_centers = np.vstack([data[c1], data[c2]])\n",
    "clust_centers"
   ]
  },
  {
   "cell_type": "code",
   "execution_count": 4,
   "id": "ed107a11",
   "metadata": {},
   "outputs": [],
   "source": [
    "from scipy.cluster.vq import vq"
   ]
  },
  {
   "cell_type": "code",
   "execution_count": 5,
   "id": "676b3027",
   "metadata": {},
   "outputs": [
    {
     "data": {
      "text/plain": [
       "(array([0, 1, 0, 1, 1, 0, 1, 0, 0, 1, 1, 1, 1, 0, 1, 1, 0, 0, 1, 0, 1, 0,\n",
       "        1, 1, 1, 1, 0, 0, 1, 1]),\n",
       " array([0.40858327, 0.7734641 , 0.30367248, 0.62485187, 0.46610403,\n",
       "        0.15890815, 0.62643494, 0.29977176, 0.63292929, 0.        ,\n",
       "        1.10943783, 0.63358988, 1.10385895, 0.75088076, 0.89701187,\n",
       "        0.27058725, 0.66897119, 0.32815274, 0.90955814, 0.56670908,\n",
       "        0.82635627, 0.37647051, 0.5818262 , 0.61111012, 0.57624386,\n",
       "        0.07896183, 0.3294392 , 0.        , 0.17418877, 0.69620501]))"
      ]
     },
     "execution_count": 5,
     "metadata": {},
     "output_type": "execute_result"
    }
   ],
   "source": [
    "vq(data, clust_centers)"
   ]
  },
  {
   "cell_type": "code",
   "execution_count": 6,
   "id": "a8afeef8",
   "metadata": {},
   "outputs": [],
   "source": [
    "from scipy.cluster.vq import kmeans"
   ]
  },
  {
   "cell_type": "code",
   "execution_count": 7,
   "id": "bf396a18",
   "metadata": {},
   "outputs": [
    {
     "data": {
      "text/plain": [
       "(array([[0.72671685, 0.1667654 , 0.48872929],\n",
       "        [0.33162469, 0.6161273 , 0.65617267]]),\n",
       " 0.37660080600216334)"
      ]
     },
     "execution_count": 7,
     "metadata": {},
     "output_type": "execute_result"
    }
   ],
   "source": [
    "kmeans(data, clust_centers)"
   ]
  },
  {
   "cell_type": "code",
   "execution_count": 8,
   "id": "fd5cc464",
   "metadata": {},
   "outputs": [
    {
     "data": {
      "text/plain": [
       "(array([[0.62287199, 0.2370285 , 0.62398524],\n",
       "        [0.25957079, 0.78072133, 0.52910363]]),\n",
       " 0.36636177387770125)"
      ]
     },
     "execution_count": 8,
     "metadata": {},
     "output_type": "execute_result"
    }
   ],
   "source": [
    "kmeans(data,2)"
   ]
  },
  {
   "cell_type": "code",
   "execution_count": null,
   "id": "732c4083",
   "metadata": {},
   "outputs": [],
   "source": []
  }
 ],
 "metadata": {
  "kernelspec": {
   "display_name": "Python 3 (ipykernel)",
   "language": "python",
   "name": "python3"
  },
  "language_info": {
   "codemirror_mode": {
    "name": "ipython",
    "version": 3
   },
   "file_extension": ".py",
   "mimetype": "text/x-python",
   "name": "python",
   "nbconvert_exporter": "python",
   "pygments_lexer": "ipython3",
   "version": "3.8.16"
  }
 },
 "nbformat": 4,
 "nbformat_minor": 5
}
